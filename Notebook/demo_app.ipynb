{
 "cells": [
  {
   "cell_type": "code",
   "execution_count": 1,
   "id": "32e469a5",
   "metadata": {},
   "outputs": [],
   "source": [
    "from flask import Flask, request, jsonify,render_template_string,render_template\n",
    "import pickle\n",
    "import re\n",
    "import string\n",
    "import numpy as np\n",
    "from sklearn.feature_extraction.text import TfidfVectorizer\n",
    "from sklearn.linear_model import LogisticRegression\n",
    "from sklearn.metrics import accuracy_score, precision_score, recall_score, f1_score"
   ]
  },
  {
   "cell_type": "code",
   "execution_count": 3,
   "id": "bc7cf245",
   "metadata": {},
   "outputs": [],
   "source": [
    "model = pickle.load(open('models/best_model.pkl', 'rb'))\n",
    "vectorizer = pickle.load(open('models/vectorizer.pkl', 'rb'))"
   ]
  },
  {
   "cell_type": "code",
   "execution_count": 4,
   "id": "1731a374",
   "metadata": {},
   "outputs": [
    {
     "name": "stdout",
     "output_type": "stream",
     "text": [
      " * Serving Flask app '__main__'\n",
      " * Debug mode: off\n"
     ]
    },
    {
     "name": "stderr",
     "output_type": "stream",
     "text": [
      "WARNING: This is a development server. Do not use it in a production deployment. Use a production WSGI server instead.\n",
      " * Running on http://127.0.0.1:5000\n",
      "Press CTRL+C to quit\n",
      "127.0.0.1 - - [07/Feb/2025 15:58:42] \"GET / HTTP/1.1\" 200 -\n",
      "127.0.0.1 - - [07/Feb/2025 15:58:42] \"GET /static/style.css HTTP/1.1\" 304 -\n",
      "127.0.0.1 - - [07/Feb/2025 15:58:46] \"POST / HTTP/1.1\" 200 -\n",
      "127.0.0.1 - - [07/Feb/2025 15:58:46] \"GET /static/style.css HTTP/1.1\" 304 -\n",
      "127.0.0.1 - - [07/Feb/2025 15:59:04] \"POST / HTTP/1.1\" 200 -\n",
      "127.0.0.1 - - [07/Feb/2025 15:59:04] \"GET /static/style.css HTTP/1.1\" 304 -\n",
      "127.0.0.1 - - [07/Feb/2025 15:59:17] \"POST / HTTP/1.1\" 200 -\n",
      "127.0.0.1 - - [07/Feb/2025 15:59:17] \"GET /static/style.css HTTP/1.1\" 304 -\n"
     ]
    }
   ],
   "source": [
    "#Single prediction\n",
    "app = Flask(__name__)\n",
    "\n",
    "def predict_sentiment(text_review):\n",
    "    def clean_text(text):\n",
    "        text = re.sub(r'<.*?>', '', text)\n",
    "        text=re.sub('[%s]'%re.escape(string.punctuation),'',text)\n",
    "        text=re.sub('\\w*\\d\\w*','',text)\n",
    "        text = re.sub(r'\\s+', ' ', text)\n",
    "        text=re.sub('[''\"\",,,]','',text)\n",
    "        text = text.lower().strip()\n",
    "        return text\n",
    "\n",
    "    cleaned_text = clean_text(text_review)\n",
    "    vectorized_text = vectorizer.transform([cleaned_text])\n",
    "    prediction = model.predict(vectorized_text)[0]\n",
    "\n",
    "    return \"Positive 😊\" if prediction == 1 else \"Negative 😞\"\n",
    "\n",
    "\n",
    "\n",
    "@app.route(\"/\", methods=[\"GET\", \"POST\"])\n",
    "def index():\n",
    "    sentiment = None\n",
    "    review_text = \"\"  \n",
    "    if request.method == \"POST\":\n",
    "        review_text = request.form.get(\"text_review\", \"\").strip()\n",
    "        if review_text:\n",
    "            sentiment = predict_sentiment(review_text)\n",
    "    return render_template(\"index.html\", sentiment=sentiment, review_text=review_text)\n",
    "\n",
    "\n",
    "# API Route for JSON Requests\n",
    "@app.route(\"/predict\", methods=[\"POST\"])\n",
    "def predict():\n",
    "    data = request.get_json()\n",
    "    review = data.get(\"text_review\", \"\")\n",
    "    if not review:\n",
    "        return jsonify({\"error\": \"No review provided\"}), 400\n",
    "    sentiment = predict_sentiment(review)\n",
    "    return jsonify({\"sentiment\": sentiment})\n",
    "\n",
    "if __name__ == \"__main__\":\n",
    "    app.run()\n"
   ]
  },
  {
   "cell_type": "code",
   "execution_count": null,
   "id": "aa707deb",
   "metadata": {},
   "outputs": [],
   "source": []
  },
  {
   "cell_type": "code",
   "execution_count": null,
   "id": "45f6d9cb",
   "metadata": {},
   "outputs": [],
   "source": []
  }
 ],
 "metadata": {
  "kernelspec": {
   "display_name": "Python 3 (ipykernel)",
   "language": "python",
   "name": "python3"
  },
  "language_info": {
   "codemirror_mode": {
    "name": "ipython",
    "version": 3
   },
   "file_extension": ".py",
   "mimetype": "text/x-python",
   "name": "python",
   "nbconvert_exporter": "python",
   "pygments_lexer": "ipython3",
   "version": "3.11.5"
  }
 },
 "nbformat": 4,
 "nbformat_minor": 5
}
